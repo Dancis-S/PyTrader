{
 "cells": [
  {
   "cell_type": "code",
   "execution_count": null,
   "metadata": {},
   "outputs": [],
   "source": [
    "import pandas as pd\n",
    "from pandas import DataFrame\n",
    "import portfolio\n",
    "import stats\n",
    "from visualisation import plot_portfolio_value"
   ]
  },
  {
   "cell_type": "code",
   "execution_count": null,
   "metadata": {},
   "outputs": [],
   "source": [
    "def calculate_sma(df: DataFrame, window):\n",
    "    return df['Close'].rolling(window=window).mean()"
   ]
  },
  {
   "cell_type": "code",
   "execution_count": null,
   "metadata": {},
   "outputs": [],
   "source": [
    "# Read in the pre-processed data\n",
    "ticker = \"AAPL\"\n",
    "data_path = f\"../data/{ticker}_processed_hourly_data.csv\"\n",
    "data = pd.read_csv(data_path, index_col='Datetime', parse_dates=True)"
   ]
  },
  {
   "cell_type": "code",
   "execution_count": null,
   "metadata": {},
   "outputs": [],
   "source": [
    "# Parameters\n",
    "short_window = 10\n",
    "long_window = 100\n",
    "\n",
    "# Time period (for days set it to 252 and for hours to 1638)\n",
    "time_period = 1638\n",
    "\n",
    "# Calculate the short and long-term SMA's\n",
    "data['SMA_short'] = calculate_sma(data, short_window)\n",
    "data['SMA_long'] = calculate_sma(data, long_window)\n",
    "\n",
    "# Filter out the rows that will be null and add column to track value\n",
    "data = data[data['SMA_long'].notna()]\n",
    "data['Portfolio Value'] = None\n",
    "data['Actions'] = None\n",
    "\n",
    "# Run the SMA strategy\n",
    "portfolio = portfolio.Portfolio(initial_cash=100000)\n",
    "\n",
    "stop_loss_percentage = 0.02\n",
    "take_profit_percentage = 0.05"
   ]
  },
  {
   "cell_type": "code",
   "execution_count": null,
   "metadata": {},
   "outputs": [],
   "source": [
    "for index, row in data.iterrows():\n",
    "    current_price = row['Close']\n",
    "    data.at[index, 'Portfolio Value'] = portfolio.get_value(current_price)\n",
    "\n",
    "    # Stop loss and take-profit logic\n",
    "    if portfolio.holdings > 0 and portfolio.last_buy_price:\n",
    "        if current_price < (portfolio.last_buy_price * (1 - stop_loss_percentage)):\n",
    "            portfolio.sell(current_price, portfolio.holdings)\n",
    "            row['Actions'] = -1\n",
    "            \n",
    "        elif current_price > (portfolio.last_buy_price * (1 + take_profit_percentage)):\n",
    "            portfolio.sell(current_price, portfolio.holdings)\n",
    "            row['Actions'] = -1\n",
    "            \n",
    "\n",
    "    # SMA logic here\n",
    "    if row['SMA_short'] > row['SMA_long'] and not portfolio.holdings:\n",
    "        portfolio.buy(row['Close'], 250)\n",
    "        row['Actions'] = 1\n",
    "        \n",
    "    elif row['SMA_short'] < row['SMA_long'] and portfolio.holdings:\n",
    "        portfolio.sell(row['Close'], 250)\n",
    "        row['Actions'] = -1\n",
    "        \n",
    "\n",
    "# Calculate the percentage change (for analysis)\n",
    "data['Returns'] = data['Portfolio Value'].pct_change().dropna()\n",
    "\n",
    "# Get the final value at the last day of the data\n",
    "final_value = portfolio.get_value(data.iloc[-1]['Close'])\n",
    "print(f\"Final Portfolio Value = {final_value}\")"
   ]
  },
  {
   "cell_type": "code",
   "execution_count": null,
   "metadata": {},
   "outputs": [],
   "source": [
    "years = ((data.index[-1] - data.index[0]).days / 365)\n",
    "\n",
    "cagr = stats.calculate_compound_annual_growth_rate(data.iloc[0]['Portfolio Value'], data.iloc[-1]['Portfolio Value'], years)\n",
    "sharpe_ratio = stats.calculate_sharpe_ratio(data['Returns'], periods_per_year=time_period)\n",
    "max_drawdown = stats.calculate_max_drawdown(data['Portfolio Value'].dropna().tolist())\n",
    "volatility = stats.calculate_volatility(data['Returns'], periods_per_year=time_period)"
   ]
  },
  {
   "cell_type": "code",
   "execution_count": null,
   "metadata": {},
   "outputs": [],
   "source": [
    "print(f\"Compound Annual Growth Rate: {cagr}\")\n",
    "print(f\"Sharpe Ratio: {sharpe_ratio}\")\n",
    "print(f\"max_drawdown: {max_drawdown}\")\n",
    "print(f\"volatility: {volatility}\")"
   ]
  },
  {
   "cell_type": "code",
   "execution_count": null,
   "metadata": {},
   "outputs": [],
   "source": [
    "plot_portfolio_value(data, \"Simple Moving Average\")"
   ]
  }
 ],
 "metadata": {
  "kernelspec": {
   "display_name": "venv",
   "language": "python",
   "name": "python3"
  },
  "language_info": {
   "codemirror_mode": {
    "name": "ipython",
    "version": 3
   },
   "file_extension": ".py",
   "mimetype": "text/x-python",
   "name": "python",
   "nbconvert_exporter": "python",
   "pygments_lexer": "ipython3",
   "version": "3.10.4"
  }
 },
 "nbformat": 4,
 "nbformat_minor": 2
}
