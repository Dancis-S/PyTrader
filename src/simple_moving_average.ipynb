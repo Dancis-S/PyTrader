{
 "cells": [
  {
   "cell_type": "code",
   "execution_count": null,
   "metadata": {},
   "outputs": [],
   "source": [
    "import pandas as pd\n",
    "from pandas import DataFrame\n",
    "import portfolio"
   ]
  },
  {
   "cell_type": "code",
   "execution_count": null,
   "metadata": {},
   "outputs": [],
   "source": [
    "def calculate_sma(df: DataFrame, window):\n",
    "    return df['Close'].rolling(window=window).mean()"
   ]
  },
  {
   "cell_type": "code",
   "execution_count": null,
   "metadata": {},
   "outputs": [],
   "source": [
    "# Read in the pre-processed data\n",
    "ticker = \"AAPL\"\n",
    "data_path = f\"../data/{ticker}_processed_hourly_data.csv\"\n",
    "data = pd.read_csv(data_path, index_col='Datetime', parse_dates=True)"
   ]
  },
  {
   "cell_type": "code",
   "execution_count": null,
   "metadata": {},
   "outputs": [],
   "source": [
    "display(data)"
   ]
  },
  {
   "cell_type": "code",
   "execution_count": null,
   "metadata": {},
   "outputs": [],
   "source": [
    "# Parameters\n",
    "short_window = 10\n",
    "long_window = 100\n",
    "\n",
    "# Time period (for days set it to 252 and for hours to 1638)\n",
    "time_period = 1638\n",
    "\n",
    "# Calculate the short and long-term SMA's\n",
    "data['SMA_short'] = calculate_sma(data, short_window)\n",
    "data['SMA_long'] = calculate_sma(data, long_window)\n",
    "\n",
    "# Filter out the rows that will be null\n",
    "data = data[data['SMA_long'].notna()]\n",
    "\n",
    "# Run the SMA strategy\n",
    "portfolio = portfolio.Portfolio(initial_cash=100000)\n",
    "holding = False\n",
    "\n",
    "stop_loss_percentage = 0.02\n",
    "take_profit_percentage = 0.05"
   ]
  },
  {
   "cell_type": "code",
   "execution_count": null,
   "metadata": {},
   "outputs": [],
   "source": [
    "for index, row in data.iterrows():\n",
    "    # Add some stop loss and take profit logic here\n",
    "    current_price = row['Close']\n",
    "    if portfolio.holdings > 0 and portfolio.last_buy_price:\n",
    "\n",
    "        if current_price < (portfolio.last_buy_price * (1 - stop_loss_percentage)):\n",
    "            portfolio.sell(current_price, portfolio.holdings)\n",
    "            holding = False\n",
    "        elif current_price > (portfolio.last_buy_price * (1 + take_profit_percentage)):\n",
    "            portfolio.sell(current_price, portfolio.holdings)\n",
    "            holding = False\n",
    "\n",
    "    if row['SMA_short'] > row['SMA_long'] and not holding:\n",
    "        portfolio.buy(row['Close'], 250)\n",
    "        holding = True\n",
    "    elif row['SMA_short'] < row['SMA_long'] and holding:\n",
    "        portfolio.sell(row['Close'], 250)\n",
    "        holding = False\n",
    "\n",
    "# Get the final value at the last day of the data\n",
    "final_value = portfolio.get_value(data.iloc[-1]['Close'])\n",
    "print(f\"Final Portfolio Value = {final_value}\")"
   ]
  },
  {
   "cell_type": "code",
   "execution_count": null,
   "metadata": {},
   "outputs": [],
   "source": [
    "portfolio.trade_summary()"
   ]
  },
  {
   "cell_type": "code",
   "execution_count": null,
   "metadata": {},
   "outputs": [],
   "source": []
  }
 ],
 "metadata": {
  "kernelspec": {
   "display_name": "venv",
   "language": "python",
   "name": "python3"
  },
  "language_info": {
   "codemirror_mode": {
    "name": "ipython",
    "version": 3
   },
   "file_extension": ".py",
   "mimetype": "text/x-python",
   "name": "python",
   "nbconvert_exporter": "python",
   "pygments_lexer": "ipython3",
   "version": "3.10.4"
  }
 },
 "nbformat": 4,
 "nbformat_minor": 2
}
