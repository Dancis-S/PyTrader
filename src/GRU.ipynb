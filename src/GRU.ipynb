{
 "cells": [
  {
   "cell_type": "code",
   "execution_count": null,
   "metadata": {},
   "outputs": [],
   "source": [
    "import torch\n",
    "import torch.nn as nn\n",
    "import numpy as np\n",
    "import pandas as pd\n",
    "from sklearn.preprocessing import MinMaxScaler\n",
    "import torch.optim as optim\n",
    "from sklearn.model_selection import train_test_split\n",
    "import matplotlib.pyplot as plt\n",
    "import ta\n",
    "from collections import Counter"
   ]
  },
  {
   "cell_type": "code",
   "execution_count": null,
   "metadata": {},
   "outputs": [],
   "source": [
    "# device = torch.device('cuda' if torch.cuda.is_available() else 'cpu')\n",
    "# print(device)"
   ]
  },
  {
   "cell_type": "code",
   "execution_count": null,
   "metadata": {},
   "outputs": [],
   "source": [
    "def prepare_gru_data(data, feature_columns, target_column, sequence_length=50):\n",
    "    \"\"\"\n",
    "    Prepares data for GRU by creating sequences of features and corresponding targets.\n",
    "    \"\"\"\n",
    "    # Normalize the feature columns (convert to NumPy array explicitly)\n",
    "    scaler = MinMaxScaler()\n",
    "    data[feature_columns] = scaler.fit_transform(data[feature_columns].to_numpy())\n",
    "\n",
    "    # Create sequences\n",
    "    X, y = [], []\n",
    "    for i in range(len(data) - sequence_length):\n",
    "        X.append(data[feature_columns].iloc[i:i + sequence_length].values)\n",
    "        y.append(data[target_column].iloc[i + sequence_length])\n",
    "\n",
    "    return np.array(X), np.array(y)"
   ]
  },
  {
   "cell_type": "code",
   "execution_count": null,
   "metadata": {},
   "outputs": [],
   "source": [
    "class GRUModel(nn.Module):\n",
    "    def __init__(self, input_size, hidden_size, num_layers, output_size):\n",
    "        super().__init__()\n",
    "        self.gru = nn.GRU(input_size, hidden_size, num_layers, batch_first=True)\n",
    "        self.fc = nn.Linear(hidden_size, output_size)\n",
    "\n",
    "    def forward(self, x):\n",
    "        out, _ = self.gru(x)\n",
    "        out = self.fc(out[:, -1, :])  # use last hidden\n",
    "        return out"
   ]
  },
  {
   "cell_type": "code",
   "execution_count": null,
   "metadata": {},
   "outputs": [],
   "source": [
    "# Function from classifier\n",
    "\n",
    "def create_labels(df, look_ahead_period=1, threshold=0.01):\n",
    "    \"\"\"\n",
    "    Adds a \"Action\" column to the df\n",
    "    2 = buy, 0 = sell, 1 = hold   has to be different for GRU\n",
    "    \"\"\"\n",
    "    df[\"Future Price\"] = df[\"Close\"].shift(-look_ahead_period)\n",
    "    df[\"Price Change\"] = (df[\"Future Price\"] - df[\"Close\"]) / df[\"Close\"]\n",
    "\n",
    "    df[\"Action\"] = 1\n",
    "    df.loc[df[\"Price Change\"] > threshold, \"Action\"] = 2  # We buy\n",
    "    df.loc[df[\"Price Change\"] < -threshold, \"Action\"] = 0\n",
    "\n",
    "    df = df.dropna(subset=[\"Future Price\"])\n",
    "    return df\n",
    "\n",
    "\n",
    "def add_technical_indicators(df, sma_short=20, sma_long=50, bollinger_window=20, \n",
    "                             macd_fast=12, macd_slow=26, macd_signal=9, rsi_window=14):\n",
    "    \"\"\"\n",
    "    Add technical indicators as features to the df\n",
    "    \"\"\"\n",
    "    # Short and Long SMA\n",
    "    df[f'SMA_{sma_short}'] = df['Close'].rolling(window=sma_short).mean()\n",
    "    df[f'SMA_{sma_long}'] = df['Close'].rolling(window=sma_long).mean()\n",
    "\n",
    "    # Bollinger Bands\n",
    "    df[f'BB_High'] = ta.volatility.bollinger_hband(df['Close'], window=bollinger_window)\n",
    "    df[f'BB_Low'] = ta.volatility.bollinger_lband(df['Close'], window=bollinger_window)\n",
    "\n",
    "    # MACD (Moving Average Convergence Divergence)\n",
    "    df[f'MACD'] = ta.trend.macd(df['Close'], window_slow=macd_slow, window_fast=macd_fast)\n",
    "    df[f'MACD_Signal'] = ta.trend.macd_signal(df['Close'], window_slow=macd_slow, window_fast=macd_fast, window_sign=macd_signal)\n",
    "\n",
    "    # RSI (Relative Strength Index)\n",
    "    df[f'RSI'] = ta.momentum.rsi(df['Close'], window=rsi_window)\n",
    "\n",
    "    # Backfill missing values\n",
    "    df = df.fillna(method='bfill')\n",
    "    return df"
   ]
  },
  {
   "cell_type": "markdown",
   "metadata": {},
   "source": [
    "## Functions Above!"
   ]
  },
  {
   "cell_type": "code",
   "execution_count": null,
   "metadata": {},
   "outputs": [],
   "source": [
    "# Read in all the data\n",
    "ticker = \"AAPL\"\n",
    "data_path = f\"../data/{ticker}_processed_hourly_data.csv\"\n",
    "raw_data = pd.read_csv(data_path, index_col='Datetime', parse_dates=True)\n",
    "\n",
    "data = create_labels(raw_data)\n",
    "data = add_technical_indicators(data)"
   ]
  },
  {
   "cell_type": "code",
   "execution_count": null,
   "metadata": {},
   "outputs": [],
   "source": [
    "feature_columns = ['SMA_20', 'SMA_50', 'RSI', 'MACD', 'Volume']  # Replace with your actual features\n",
    "# print(data[feature_columns].head())  \n",
    "print(data[feature_columns].dtypes) "
   ]
  },
  {
   "cell_type": "code",
   "execution_count": null,
   "metadata": {},
   "outputs": [],
   "source": [
    "# Set up the data\n",
    "feature_columns = ['SMA_20', 'SMA_50', 'RSI', 'MACD', 'Volume']  \n",
    "target_column = 'Action' \n",
    "sequence_length = 50\n",
    "\n",
    "X, y = prepare_gru_data(data, feature_columns, target_column, sequence_length)"
   ]
  },
  {
   "cell_type": "code",
   "execution_count": null,
   "metadata": {},
   "outputs": [],
   "source": [
    "# Model parameters\n",
    "input_size = X.shape[2]  # Number of features\n",
    "hidden_size = 64\n",
    "num_layers = 2\n",
    "output_size = 3  \n",
    "\n",
    "model = GRUModel(input_size, hidden_size, num_layers, output_size)"
   ]
  },
  {
   "cell_type": "code",
   "execution_count": null,
   "metadata": {},
   "outputs": [],
   "source": [
    "# Split data and then convert them to tensors\n",
    "X_train, X_test, y_train, y_test = train_test_split(X, y, test_size=0.2, shuffle=False)\n",
    "\n",
    "X_train_tensor = torch.tensor(X_train, dtype=torch.float32)\n",
    "y_train_tensor = torch.tensor(y_train, dtype=torch.float32)\n",
    "X_test_tensor = torch.tensor(X_test, dtype=torch.float32)\n",
    "y_test_tensor = torch.tensor(y_test, dtype=torch.float32)\n",
    "\n",
    "# Define loss and optimizer (we are changing weights so it doesnt bias hold to minimise loss)\n",
    "class_counts = torch.tensor([63, 2398, 70], dtype=torch.float32)  # Sell, Hold, Buy counts\n",
    "class_weights = 1.0 / class_counts\n",
    "class_weights = class_weights / class_weights.sum()  # Normalize weights\n",
    "\n",
    "# Use the weights in CrossEntropyLoss\n",
    "criterion = nn.CrossEntropyLoss(weight=class_weights.to(y_train_tensor.device))\n",
    "optimizer = optim.Adam(model.parameters(), lr=0.001)"
   ]
  },
  {
   "cell_type": "code",
   "execution_count": null,
   "metadata": {},
   "outputs": [],
   "source": [
    "# Training loop\n",
    "epochs = 20\n",
    "batch_size = 32\n",
    "\n",
    "for epoch in range(20):\n",
    "    model.train()\n",
    "    for i in range(0, len(X_train_tensor), batch_size):\n",
    "        X_batch = X_train_tensor[i:i + batch_size]\n",
    "        y_batch = y_train_tensor[i:i + batch_size].long()  # Ensure target is Long type\n",
    "\n",
    "        optimizer.zero_grad()\n",
    "        outputs = model(X_batch)  # Logits\n",
    "        loss = criterion(outputs, y_batch)  # CrossEntropyLoss\n",
    "        loss.backward()\n",
    "        optimizer.step()\n",
    "\n",
    "    print(f\"Epoch {epoch+1}/20, Loss: {loss.item()}\")"
   ]
  },
  {
   "cell_type": "code",
   "execution_count": null,
   "metadata": {},
   "outputs": [],
   "source": [
    "# Evaluate the model\n",
    "model.eval()\n",
    "with torch.no_grad():\n",
    "    # Get predictions\n",
    "    y_pred = model(X_test_tensor)  # Logits\n",
    "    y_pred_class = torch.argmax(y_pred, axis=1)  # Predicted classes (0, 1, 2)\n",
    "\n",
    "# Calculate overall accuracy\n",
    "accuracy = (y_pred_class == y_test_tensor).float().mean().item()\n",
    "print(f\"Overall Test Accuracy: {accuracy * 100:.2f}%\")\n",
    "\n",
    "# Calculate accuracy for Buy (2) and Sell (0) only\n",
    "mask = (y_test_tensor == 0) | (y_test_tensor == 2)  # Filter for 0 (Sell) and 2 (Buy)\n",
    "y_test_filtered = y_test_tensor[mask]\n",
    "y_pred_filtered = y_pred_class[mask]\n",
    "buy_sell_accuracy = (y_test_filtered == y_pred_filtered).float().mean().item()\n",
    "print(f\"Accuracy for Buy/Sell (0 and 2): {buy_sell_accuracy * 100:.2f}%\")\n",
    "\n",
    "# Fix visualization of predictions vs actual values\n",
    "plt.figure(figsize=(12, 6))\n",
    "plt.plot(y_test_tensor.cpu().numpy(), label=\"Actual\", linestyle=\"--\", alpha=0.7)\n",
    "plt.plot(y_pred_class.cpu().numpy(), label=\"Predicted\", alpha=0.7)\n",
    "plt.xlabel(\"Sample Index\")\n",
    "plt.ylabel(\"Class (0 = Sell, 1 = Hold, 2 = Buy)\")\n",
    "plt.title(\"Actual vs Predicted Actions\")\n",
    "plt.legend()\n",
    "plt.grid()\n",
    "plt.show()"
   ]
  }
 ],
 "metadata": {
  "kernelspec": {
   "display_name": "venv",
   "language": "python",
   "name": "python3"
  },
  "language_info": {
   "codemirror_mode": {
    "name": "ipython",
    "version": 3
   },
   "file_extension": ".py",
   "mimetype": "text/x-python",
   "name": "python",
   "nbconvert_exporter": "python",
   "pygments_lexer": "ipython3",
   "version": "3.10.4"
  }
 },
 "nbformat": 4,
 "nbformat_minor": 2
}
