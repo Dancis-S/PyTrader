{
 "cells": [
  {
   "cell_type": "code",
   "execution_count": null,
   "metadata": {},
   "outputs": [],
   "source": [
    "import torch\n",
    "import torch.nn as nn\n",
    "import numpy as np\n",
    "import pandas as pd\n",
    "from sklearn.preprocessing import MinMaxScaler\n",
    "import torch.optim as optim\n",
    "from sklearn.model_selection import train_test_split\n",
    "import matplotlib.pyplot as plt"
   ]
  },
  {
   "cell_type": "code",
   "execution_count": null,
   "metadata": {},
   "outputs": [],
   "source": [
    "device = torch.device('cuda' if torch.cuda.is_available() else 'cpu')\n",
    "print(device)"
   ]
  },
  {
   "cell_type": "code",
   "execution_count": null,
   "metadata": {},
   "outputs": [],
   "source": [
    "def prepare_gru_data(self, data, feature_columns, target_column, sequence_length=50):\n",
    "    \"\"\"\n",
    "    Prepare the data for the gru model, by making sequence of features and the targets\n",
    "    \"\"\"\n",
    "    X, y = [], []\n",
    "    \n",
    "    # Normalize the feature columns\n",
    "    scaler = MinMaxScaler()\n",
    "    data[feature_columns] = scaler.fit_transform(data[feature_columns])\n",
    "    \n",
    "    for i in range(len(data) - sequence_length):\n",
    "        X.append(data[feature_columns].iloc[i:i + sequence_length].values)\n",
    "        y.append(data[target_column].iloc[i + sequence_length])\n",
    "    \n",
    "    return np.array(X), np.array(y)"
   ]
  },
  {
   "cell_type": "code",
   "execution_count": null,
   "metadata": {},
   "outputs": [],
   "source": [
    "class GRUModel(nn.Module):\n",
    "    def __init__(self, input_size, hidden_size, num_layers, output_size):\n",
    "        super().__init__()\n",
    "        self.gru = nn.GRU(input_size, hidden_size, num_layers, batch_first=True)\n",
    "        self.fc = nn.Linear(hidden_size, output_size)\n",
    "\n",
    "    def forward(self, x):\n",
    "        out, _ = self.gru(x)\n",
    "        out = self.fc(out[:, -1, :])  # use last hidden\n",
    "        return out"
   ]
  },
  {
   "cell_type": "markdown",
   "metadata": {},
   "source": [
    "## Functions Above!"
   ]
  },
  {
   "cell_type": "code",
   "execution_count": null,
   "metadata": {},
   "outputs": [],
   "source": [
    "# Set up the data\n",
    "feature_columns = ['SMA_20', 'SMA_50', 'RSI', 'MACD', 'Volume']  \n",
    "target_column = 'Action' \n",
    "sequence_length = 50\n",
    "\n",
    "X, y = prepare_gru_data(data, feature_columns, target_column, sequence_length)"
   ]
  },
  {
   "cell_type": "code",
   "execution_count": null,
   "metadata": {},
   "outputs": [],
   "source": [
    "# Model parameters\n",
    "input_size = X.shape[2]  # Number of features\n",
    "hidden_size = 64\n",
    "num_layers = 2\n",
    "output_size = 1  \n",
    "\n",
    "model = GRUModel(input_size, hidden_size, num_layers, output_size)\n",
    "\n",
    "# Define loss and optimizer\n",
    "criterion = nn.BCEWithLogitsLoss()  # BCE for classification\n",
    "optimizer = optim.Adam(model.parameters(), lr=0.001)"
   ]
  },
  {
   "cell_type": "code",
   "execution_count": null,
   "metadata": {},
   "outputs": [],
   "source": [
    "# Split data and then convert them to tensors\n",
    "X_train, X_test, y_train, y_test = train_test_split(X, y, test_size=0.2, shuffle=False)\n",
    "\n",
    "X_train_tensor = torch.tensor(X_train, dtype=torch.float32)\n",
    "y_train_tensor = torch.tensor(y_train, dtype=torch.float32)\n",
    "X_test_tensor = torch.tensor(X_test, dtype=torch.float32)\n",
    "y_test_tensor = torch.tensor(y_test, dtype=torch.float32)\n",
    "\n",
    "# Training loop\n",
    "epochs = 20\n",
    "batch_size = 32\n",
    "\n",
    "for epoch in range(epochs):\n",
    "    model.train()\n",
    "    for i in range(0, len(X_train_tensor), batch_size):\n",
    "        X_batch = X_train_tensor[i:i + batch_size]\n",
    "        y_batch = y_train_tensor[i:i + batch_size]\n",
    "        \n",
    "        optimizer.zero_grad()\n",
    "        outputs = model(X_batch).squeeze()\n",
    "        loss = criterion(outputs, y_batch)\n",
    "        loss.backward()\n",
    "        optimizer.step()\n",
    "    \n",
    "    print(f\"Epoch {epoch + 1}/{epochs}, Loss: {loss.item()}\")"
   ]
  },
  {
   "cell_type": "code",
   "execution_count": null,
   "metadata": {},
   "outputs": [],
   "source": [
    "# Quick evaluation to see\n",
    "model.eval()\n",
    "with torch.no_grad():\n",
    "    y_pred = model(X_test_tensor).squeeze()\n",
    "    y_pred_class = (torch.sigmoid(y_pred) > 0.5).float()\n",
    "\n",
    "# Calculate accuracy\n",
    "accuracy = (y_pred_class == y_test_tensor).float().mean()\n",
    "print(f\"Test Accuracy: {accuracy.item()}\")\n",
    "\n",
    "# Visualize predictions\n",
    "plt.figure(figsize=(12, 6))\n",
    "plt.plot(y_test, label=\"Actual\")\n",
    "plt.plot(torch.sigmoid(y_pred).numpy(), label=\"Predicted\", alpha=0.7)\n",
    "plt.legend()\n",
    "plt.show()"
   ]
  }
 ],
 "metadata": {
  "kernelspec": {
   "display_name": "venv",
   "language": "python",
   "name": "python3"
  },
  "language_info": {
   "codemirror_mode": {
    "name": "ipython",
    "version": 3
   },
   "file_extension": ".py",
   "mimetype": "text/x-python",
   "name": "python",
   "nbconvert_exporter": "python",
   "pygments_lexer": "ipython3",
   "version": "3.10.4"
  }
 },
 "nbformat": 4,
 "nbformat_minor": 2
}
