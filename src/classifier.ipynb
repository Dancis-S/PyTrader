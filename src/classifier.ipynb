{
 "cells": [
  {
   "cell_type": "code",
   "execution_count": null,
   "metadata": {},
   "outputs": [],
   "source": [
    "import pandas as pd\n",
    "import ta\n",
    "from portfolio import Portfolio\n",
    "from visualisation import plot_portfolio_value, plot_trade_points\n",
    "from sklearn.ensemble import RandomForestClassifier\n",
    "from sklearn.model_selection import  TimeSeriesSplit\n",
    "from sklearn.metrics import classification_report"
   ]
  },
  {
   "cell_type": "code",
   "execution_count": null,
   "metadata": {},
   "outputs": [],
   "source": [
    "def create_labels(df, look_ahead_period=1, threshold=0.01):\n",
    "    \"\"\"\n",
    "    Adds a \"Action\" column to the df\n",
    "    1 = buy, -1 = sell, 0 = hold\n",
    "    \"\"\"\n",
    "    df[\"Future Price\"] = df[\"Close\"].shift(-look_ahead_period)\n",
    "    df[\"Price Change\"] = (df[\"Future Price\"] - df[\"Close\"]) / df[\"Close\"]\n",
    "\n",
    "    df[\"Action\"] = 0\n",
    "    df.loc[df[\"Price Change\"] > threshold, \"Action\"] = 1  # We buy\n",
    "    df.loc[df[\"Price Change\"] < -threshold, \"Action\"] = -1\n",
    "\n",
    "    df = df.dropna(subset=[\"Future Price\"])\n",
    "    return df\n",
    "\n",
    "\n",
    "def add_technical_indicators(df, sma_short=20, sma_long=50, bollinger_window=20, \n",
    "                             macd_fast=12, macd_slow=26, macd_signal=9, rsi_window=14):\n",
    "    \"\"\"\n",
    "    Add technical indicators as features to the DF\n",
    "    \"\"\"\n",
    "    # Short and Long SMA\n",
    "    df[f'SMA_{sma_short}'] = df['Close'].rolling(window=sma_short).mean()\n",
    "    df[f'SMA_{sma_long}'] = df['Close'].rolling(window=sma_long).mean()\n",
    "\n",
    "    # Bollinger Bands\n",
    "    df[f'BB_High_{bollinger_window}'] = ta.volatility.bollinger_hband(df['Close'], window=bollinger_window)\n",
    "    df[f'BB_Low_{bollinger_window}'] = ta.volatility.bollinger_lband(df['Close'], window=bollinger_window)\n",
    "\n",
    "    # MACD (Moving Average Convergence Divergence)\n",
    "    df[f'MACD_{macd_fast}_{macd_slow}'] = ta.trend.macd(df['Close'], window_slow=macd_slow, window_fast=macd_fast)\n",
    "    df[f'MACD_Signal_{macd_signal}'] = ta.trend.macd_signal(df['Close'], window_slow=macd_slow, window_fast=macd_fast, window_sign=macd_signal)\n",
    "\n",
    "    # RSI (Relative Strength Index)\n",
    "    df[f'RSI_{rsi_window}'] = ta.momentum.rsi(df['Close'], window=rsi_window)\n",
    "\n",
    "    # Back fill na values0\n",
    "    df = df.fillna(method='bfill')\n",
    "    return df\n"
   ]
  },
  {
   "cell_type": "code",
   "execution_count": null,
   "metadata": {},
   "outputs": [],
   "source": [
    "# Read in all the data\n",
    "ticker = \"AAPL\"\n",
    "data_path = f\"../data/{ticker}_processed_hourly_data.csv\"\n",
    "data = pd.read_csv(data_path, index_col='Datetime', parse_dates=True)"
   ]
  },
  {
   "cell_type": "code",
   "execution_count": null,
   "metadata": {},
   "outputs": [],
   "source": [
    "prep_data = create_labels(data)\n",
    "prep_data = add_technical_indicators(prep_data)"
   ]
  },
  {
   "cell_type": "code",
   "execution_count": null,
   "metadata": {},
   "outputs": [],
   "source": [
    "# Define feature columns (all columns except 'Close', 'Future Price', 'Price Change', and 'Action')\n",
    "feature_columns = [col for col in data.columns if col not in ['Close', 'Future Price', 'Price Change', 'Action']]\n",
    "X = prep_data[feature_columns]\n",
    "y = prep_data['Action']\n",
    "\n",
    "# Use Time Series Split for time series cross over\n",
    "time_series_splits = TimeSeriesSplit(n_splits=5)\n",
    "\n",
    "for fold, (train_index, test_index) in enumerate(time_series_splits.split(X)):\n",
    "    # Split data into training and testing sets\n",
    "    X_train, X_test = X.iloc[train_index], X.iloc[test_index]\n",
    "    y_train, y_test = y.iloc[train_index], y.iloc[test_index]\n",
    "    \n",
    "    # Train the model on the training set for this fold\n",
    "    model = RandomForestClassifier(n_estimators=100, random_state=42)\n",
    "    model.fit(X_train, y_train)\n",
    "    \n",
    "    # Predict and evaluate on the test set for this fold\n",
    "    y_pred = model.predict(X_test)\n",
    "    print(f\"Fold {fold + 1} Evaluation:\")\n",
    "    print(classification_report(y_test, y_pred))"
   ]
  },
  {
   "cell_type": "code",
   "execution_count": null,
   "metadata": {},
   "outputs": [],
   "source": [
    "# Initialise the portfolio\n",
    "portfolio = Portfolio(100000)"
   ]
  },
  {
   "cell_type": "code",
   "execution_count": null,
   "metadata": {},
   "outputs": [],
   "source": [
    "# Predict labels on the entire dataset (use only feature columns)\n",
    "prep_data['Predicted Label'] = model.predict(X)\n",
    "prep_data['Actions'] = None\n",
    "prep_data['Portfolio Value'] = None\n",
    "\n",
    "# Integrate predictions into backtesting loop\n",
    "for index, row in prep_data.iterrows():\n",
    "    prep_data.at[index, 'Portfolio Value'] = portfolio.get_value(row['Close'])\n",
    "  \n",
    "    if row['Predicted Label'] == 1 and not portfolio.holdings:\n",
    "        portfolio.buy(row['Close'], 250)\n",
    "        prep_data['Actions'] = 1\n",
    "        \n",
    "    elif row['Predicted Label'] == -1 and portfolio.holdings:\n",
    "        portfolio.sell(row['Close'], 250)\n",
    "        prep_data['Actions'] = -1\n",
    "\n",
    "print(f\"Portfolio Final Value = {portfolio.get_value(prep_data.iloc[-1]['Close'])}\")\n",
    "\n",
    "# Calc returns\n",
    "prep_data['Returns'] = prep_data['Portfolio Value'].pct_change().dropna()"
   ]
  },
  {
   "cell_type": "code",
   "execution_count": null,
   "metadata": {},
   "outputs": [],
   "source": [
    "print(prep_data['Portfolio Value'])"
   ]
  },
  {
   "cell_type": "code",
   "execution_count": null,
   "metadata": {},
   "outputs": [],
   "source": [
    "plot_portfolio_value(prep_data, \"RandomForestClassifier\")"
   ]
  },
  {
   "cell_type": "code",
   "execution_count": null,
   "metadata": {},
   "outputs": [],
   "source": [
    "plot_trade_points(prep_data, \"Random Forest Classifier\")"
   ]
  }
 ],
 "metadata": {
  "kernelspec": {
   "display_name": "venv",
   "language": "python",
   "name": "python3"
  },
  "language_info": {
   "codemirror_mode": {
    "name": "ipython",
    "version": 3
   },
   "file_extension": ".py",
   "mimetype": "text/x-python",
   "name": "python",
   "nbconvert_exporter": "python",
   "pygments_lexer": "ipython3",
   "version": "3.10.4"
  }
 },
 "nbformat": 4,
 "nbformat_minor": 2
}
