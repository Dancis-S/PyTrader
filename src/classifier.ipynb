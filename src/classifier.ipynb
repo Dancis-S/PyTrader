{
 "cells": [
  {
   "cell_type": "code",
   "execution_count": null,
   "metadata": {},
   "outputs": [],
   "source": [
    "import pandas as pd\n",
    "import ta"
   ]
  },
  {
   "cell_type": "code",
   "execution_count": null,
   "metadata": {},
   "outputs": [],
   "source": [
    "def add_technical_indicators(df, sma_short=20, sma_long=50, bollinger_window=20, \n",
    "                             macd_fast=12, macd_slow=26, macd_signal=9, rsi_window=14):\n",
    "    # Short and Long SMA\n",
    "    df[f'SMA_{sma_short}'] = df['Close'].rolling(window=sma_short).mean()\n",
    "    df[f'SMA_{sma_long}'] = df['Close'].rolling(window=sma_long).mean()\n",
    "\n",
    "    # Bollinger Bands\n",
    "    df[f'BB_High_{bollinger_window}'] = ta.volatility.bollinger_hband(df['Close'], window=bollinger_window)\n",
    "    df[f'BB_Low_{bollinger_window}'] = ta.volatility.bollinger_lband(df['Close'], window=bollinger_window)\n",
    "\n",
    "    # MACD (Moving Average Convergence Divergence)\n",
    "    df[f'MACD_{macd_fast}_{macd_slow}'] = ta.trend.macd(df['Close'], window_slow=macd_slow, window_fast=macd_fast)\n",
    "    df[f'MACD_Signal_{macd_signal}'] = ta.trend.macd_signal(df['Close'], window_slow=macd_slow, window_fast=macd_fast, window_sign=macd_signal)\n",
    "\n",
    "    # RSI (Relative Strength Index)\n",
    "    df[f'RSI_{rsi_window}'] = ta.momentum.rsi(df['Close'], window=rsi_window)\n",
    "\n",
    "    # Back fill na values\n",
    "    df = df.fillna(method='bfill')\n",
    "\n",
    "    return df"
   ]
  },
  {
   "cell_type": "code",
   "execution_count": null,
   "metadata": {},
   "outputs": [],
   "source": [
    "# Read in all the data\n",
    "ticker = \"AAPL\"\n",
    "data_path = f\"../data/{ticker}_processed_hourly_data.csv\"\n",
    "data = pd.read_csv(data_path, index_col='Datetime', parse_dates=True)"
   ]
  },
  {
   "cell_type": "code",
   "execution_count": null,
   "metadata": {},
   "outputs": [],
   "source": [
    "test = add_technical_indicators(data)\n",
    "print(test)"
   ]
  }
 ],
 "metadata": {
  "kernelspec": {
   "display_name": "venv",
   "language": "python",
   "name": "python3"
  },
  "language_info": {
   "codemirror_mode": {
    "name": "ipython",
    "version": 3
   },
   "file_extension": ".py",
   "mimetype": "text/x-python",
   "name": "python",
   "nbconvert_exporter": "python",
   "pygments_lexer": "ipython3",
   "version": "3.10.4"
  }
 },
 "nbformat": 4,
 "nbformat_minor": 2
}
