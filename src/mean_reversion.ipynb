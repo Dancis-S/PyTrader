{
 "cells": [
  {
   "cell_type": "code",
   "execution_count": null,
   "metadata": {},
   "outputs": [],
   "source": [
    "import pandas as pd\n",
    "from pandas import DataFrame\n",
    "import portfolio\n",
    "from stats import *\n",
    "from visualisation import *"
   ]
  },
  {
   "cell_type": "code",
   "execution_count": null,
   "metadata": {},
   "outputs": [],
   "source": [
    "# Read in the pre-processed data\n",
    "ticker = \"AAPL\"\n",
    "data_path = f\"../data/{ticker}_processed_hourly_data.csv\"\n",
    "data = pd.read_csv(data_path, index_col='Datetime', parse_dates=True)"
   ]
  },
  {
   "cell_type": "code",
   "execution_count": null,
   "metadata": {},
   "outputs": [],
   "source": [
    "def calculate_bollinger_bands(df, window=50, num_std=2):\n",
    "    rolling_mean = df['Close'].rolling(window).mean() \n",
    "    rolling_std = df['Close'].rolling(window).std()\n",
    "\n",
    "    df['Bollinger_Upper'] = rolling_mean + (rolling_std * num_std)\n",
    "    df['Bollinger_Lower'] = rolling_mean - (rolling_std * num_std)"
   ]
  },
  {
   "cell_type": "code",
   "execution_count": null,
   "metadata": {},
   "outputs": [],
   "source": [
    "\n",
    "# Calculate the Bollinger bands\n",
    "calculate_bollinger_bands(data)\n",
    "\n",
    "# Filter out the rows that will be null\n",
    "data = data[(data['Bollinger_Upper'].notna()) & (data['Bollinger_Lower'].notna())]\n",
    "\n",
    "# Set up Portfolio\n",
    "portfolio = portfolio.Portfolio(initial_cash=100000)\n",
    "data['Portfolio Value'] = None\n",
    "data['Actions'] = None\n",
    "\n",
    "stop_loss_percentage = 0.02\n",
    "take_profit_percentage = 0.1\n",
    "\n",
    "# Time period (for days set it to 252 and for hourly set to 1638)\n",
    "time_period = 1638"
   ]
  },
  {
   "cell_type": "code",
   "execution_count": null,
   "metadata": {},
   "outputs": [],
   "source": [
    "for index, row in data.iterrows():\n",
    "    data.at[index, 'Portfolio Value'] = portfolio.get_value(row['Close'])\n",
    "\n",
    "    # Stop loss and take profit logic here\n",
    "    if portfolio.holdings and portfolio.last_buy_price:\n",
    "        if row['Close'] < (portfolio.last_buy_price * (1 + take_profit_percentage)):\n",
    "            portfolio.sell(row['Close'], portfolio.holdings)\n",
    "            data.at[index, 'Actions'] = -1\n",
    "        elif row['Close'] >  (portfolio.last_buy_price * (1 - stop_loss_percentage)):\n",
    "            portfolio.sell(row['Close'], portfolio.holdings)\n",
    "            data.at[index, 'Actions'] = -1\n",
    "\n",
    "    # Mean reversion logic here\n",
    "    if row['Close'] < row['Bollinger_Lower'] and not portfolio.holdings:\n",
    "        # Buy when price falls below the lower Bollinger Band\n",
    "        portfolio.buy(row['Close'], 250)\n",
    "        data.at[index, 'Actions'] = 1\n",
    "\n",
    "    elif row['Close'] > row['Bollinger_Upper'] and portfolio.holdings:\n",
    "        # Sell when price rises above the upper Bollinger Band\n",
    "        portfolio.sell(row['Close'], 250)\n",
    "        data.at[index, 'Actions'] = -1\n",
    "\n",
    "\n",
    "# Calculate the percentage change (for analysis)\n",
    "data['Returns'] = data['Portfolio Value'].pct_change().dropna()\n",
    "\n",
    "print(f\"Final Portfolio Value: {portfolio.get_value(data.iloc[-1]['Close'])}\")"
   ]
  },
  {
   "cell_type": "code",
   "execution_count": null,
   "metadata": {},
   "outputs": [],
   "source": [
    "years = ((data.index[-1] - data.index[0]).days / 365)\n",
    "\n",
    "cagr = calculate_compound_annual_growth_rate(data.iloc[0]['Portfolio Value'], data.iloc[-1]['Portfolio Value'], years)\n",
    "sharpe_ratio = calculate_sharpe_ratio(data['Returns'], periods_per_year=time_period)\n",
    "max_drawdown = calculate_max_drawdown(data['Portfolio Value'].dropna().tolist())\n",
    "volatility = calculate_volatility(data['Returns'], periods_per_year=time_period)"
   ]
  },
  {
   "cell_type": "code",
   "execution_count": null,
   "metadata": {},
   "outputs": [],
   "source": [
    "print(f\"Compound Annual Growth Rate: {cagr}\")\n",
    "print(f\"Sharpe Ratio: {sharpe_ratio}\")\n",
    "print(f\"max_drawdown: {max_drawdown}\")\n",
    "print(f\"volatility: {volatility}\")"
   ]
  },
  {
   "cell_type": "code",
   "execution_count": null,
   "metadata": {},
   "outputs": [],
   "source": [
    "plot_portfolio_value(data, \"Mean Reversion\")"
   ]
  },
  {
   "cell_type": "code",
   "execution_count": null,
   "metadata": {},
   "outputs": [],
   "source": [
    "plot_trade_points(data, \"Mean Reversion\")"
   ]
  }
 ],
 "metadata": {
  "kernelspec": {
   "display_name": "venv",
   "language": "python",
   "name": "python3"
  },
  "language_info": {
   "codemirror_mode": {
    "name": "ipython",
    "version": 3
   },
   "file_extension": ".py",
   "mimetype": "text/x-python",
   "name": "python",
   "nbconvert_exporter": "python",
   "pygments_lexer": "ipython3",
   "version": "3.10.4"
  }
 },
 "nbformat": 4,
 "nbformat_minor": 2
}
