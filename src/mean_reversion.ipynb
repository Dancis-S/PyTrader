{
 "cells": [
  {
   "cell_type": "code",
   "execution_count": null,
   "metadata": {},
   "outputs": [],
   "source": [
    "import pandas as pd\n",
    "from pandas import DataFrame\n",
    "import portfolio"
   ]
  },
  {
   "cell_type": "code",
   "execution_count": null,
   "metadata": {},
   "outputs": [],
   "source": [
    "# Read in the pre-processed data\n",
    "ticker = \"AAPL\"\n",
    "data_path = f\"../data/{ticker}_processed_hourly_data.csv\"\n",
    "data = pd.read_csv(data_path)"
   ]
  },
  {
   "cell_type": "code",
   "execution_count": null,
   "metadata": {},
   "outputs": [],
   "source": [
    "def calculate_bollinger_bands(df, window=50, num_std=2):\n",
    "    rolling_mean = df['Close'].rolling(window).mean() \n",
    "    rolling_std = df['Close'].rolling(window).std()\n",
    "\n",
    "    df['Bollinger_Upper'] = rolling_mean + (rolling_std * num_std)\n",
    "    df['Bollinger_Lower'] = rolling_mean - (rolling_std * num_std)"
   ]
  },
  {
   "cell_type": "code",
   "execution_count": null,
   "metadata": {},
   "outputs": [],
   "source": [
    "\n",
    "calculate_bollinger_bands(data)\n",
    "\n",
    "# Filter out the rows that will be null\n",
    "data = data[(data['Bollinger_Upper'].notna()) & (data['Bollinger_Lower'].notna())]\n",
    "\n",
    "# Set up Portfolio\n",
    "portfolio = portfolio.Portfolio(initial_cash=100000)\n",
    "holding = False"
   ]
  },
  {
   "cell_type": "code",
   "execution_count": null,
   "metadata": {},
   "outputs": [],
   "source": [
    "for index, row in data.iterrows():\n",
    "    if row['Close'] < row['Bollinger_Lower'] and not holding:\n",
    "        # Buy when price falls below the lower Bollinger Band\n",
    "        portfolio.buy(row['Close'], 250)\n",
    "        holding = True\n",
    "    elif row['Close'] > row['Bollinger_Upper'] and holding:\n",
    "        # Sell when price rises above the upper Bollinger Band\n",
    "        portfolio.sell(row['Close'], 250)\n",
    "        holding = False\n",
    "\n",
    "print(f\"Final Portfolio Value: {portfolio.get_value(data.iloc[-1]['Close'])}\")"
   ]
  },
  {
   "cell_type": "code",
   "execution_count": null,
   "metadata": {},
   "outputs": [],
   "source": [
    "display(portfolio.trade_summary())"
   ]
  }
 ],
 "metadata": {
  "kernelspec": {
   "display_name": "venv",
   "language": "python",
   "name": "python3"
  },
  "language_info": {
   "codemirror_mode": {
    "name": "ipython",
    "version": 3
   },
   "file_extension": ".py",
   "mimetype": "text/x-python",
   "name": "python",
   "nbconvert_exporter": "python",
   "pygments_lexer": "ipython3",
   "version": "3.10.4"
  }
 },
 "nbformat": 4,
 "nbformat_minor": 2
}
