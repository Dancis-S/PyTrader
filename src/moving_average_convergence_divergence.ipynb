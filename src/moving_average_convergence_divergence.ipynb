{
 "cells": [
  {
   "cell_type": "code",
   "execution_count": null,
   "metadata": {},
   "outputs": [],
   "source": [
    "import pandas as pd\n",
    "import portfolio\n",
    "from stats import *\n",
    "from visualisation import plot_portfolio_value, plot_trade_points"
   ]
  },
  {
   "cell_type": "code",
   "execution_count": null,
   "metadata": {},
   "outputs": [],
   "source": [
    "# Read in the data\n",
    "ticker = \"AAPL\"\n",
    "data_path = f\"../data/{ticker}_processed_hourly_data.csv\"\n",
    "data = pd.read_csv(data_path, index_col='Datetime', parse_dates=True)"
   ]
  },
  {
   "cell_type": "code",
   "execution_count": null,
   "metadata": {},
   "outputs": [],
   "source": [
    "def calculate_macd(df, fast_period=10, slow_period= 25, signal_period=40):\n",
    "    df['Fast EMA'] = df['Close'].ewm(span=fast_period, adjust=False).mean()\n",
    "    df['Slow EMA'] = df['Close'].ewm(span=slow_period, adjust=False).mean()\n",
    "    df['MACD'] = df['Fast EMA'] - df['Slow EMA']\n",
    "    df['Signal Line'] = df['MACD'].ewm(span=signal_period, adjust=False).mean()\n",
    "    return df"
   ]
  },
  {
   "cell_type": "code",
   "execution_count": null,
   "metadata": {},
   "outputs": [],
   "source": [
    "data = calculate_macd(data)"
   ]
  },
  {
   "cell_type": "code",
   "execution_count": null,
   "metadata": {},
   "outputs": [],
   "source": [
    "# Initialise the portfolio\n",
    "portfolio = portfolio.Portfolio(initial_cash=100000)\n",
    "stop_loss = 0.02\n",
    "take_profit = 0.1\n",
    "\n",
    "# Prepare df to track data\n",
    "data[\"Portfolio Value\"] = None\n",
    "data[\"Actions\"] = None\n",
    "\n",
    "# Time period (for days set it to 252 and for hourly set to 1638)\n",
    "time_period = 1638"
   ]
  },
  {
   "cell_type": "code",
   "execution_count": null,
   "metadata": {},
   "outputs": [],
   "source": [
    "for index, row in data.iterrows():\n",
    "    current_price = row['Close']\n",
    "    data.at[index, \"Portfolio Value\"] = portfolio.get_value(current_price)\n",
    "\n",
    "    if portfolio.holdings and portfolio.last_buy_price:\n",
    "        if portfolio.last_buy_price <= (current_price * (1 - stop_loss)):\n",
    "            portfolio.sell(current_price, 250)\n",
    "            data.at[index, \"Actions\"] = -1\n",
    "        elif portfolio.last_buy_price >= (current_price * (1 + take_profit)):\n",
    "            portfolio.buy(current_price, 250)\n",
    "            data.at[index, \"Actions\"] = 1\n",
    "\n",
    "    # Buy: MACD crosses above Signal Line\n",
    "    if row[\"MACD\"] > row[\"Signal Line\"] and not portfolio.holdings:\n",
    "        portfolio.buy(current_price, 250)\n",
    "        data.at[index, \"Actions\"] = 1\n",
    "    # Sell: MACD crosses below Signal Line\n",
    "    elif row[\"MACD\"] <= row[\"Signal Line\"] and portfolio.holdings:\n",
    "        portfolio.sell(current_price, 250)\n",
    "        data.at[index, \"Actions\"] = -1\n",
    "\n",
    "print(f\"Portfolio Final Value: {portfolio.get_value(data.iloc[-1]['Close'])}\")\n",
    "data['Returns'] = data['Portfolio Value'].pct_change().dropna()"
   ]
  },
  {
   "cell_type": "code",
   "execution_count": null,
   "metadata": {},
   "outputs": [],
   "source": [
    "years = ((data.index[-1] - data.index[0]).days / 365)\n",
    "\n",
    "cagr = calculate_compound_annual_growth_rate(data.iloc[0]['Portfolio Value'], data.iloc[-1]['Portfolio Value'], years)\n",
    "sharpe_ratio = calculate_sharpe_ratio(data['Returns'], periods_per_year=time_period)\n",
    "max_drawdown = calculate_max_drawdown(data['Portfolio Value'].dropna().tolist())\n",
    "volatility = calculate_volatility(data['Returns'], periods_per_year=time_period)"
   ]
  },
  {
   "cell_type": "code",
   "execution_count": null,
   "metadata": {},
   "outputs": [],
   "source": [
    "print(f\"Compound Annual Growth Rate: {cagr}\")\n",
    "print(f\"Sharpe Ratio: {sharpe_ratio}\")\n",
    "print(f\"max_drawdown: {max_drawdown}\")\n",
    "print(f\"volatility: {volatility}\")"
   ]
  },
  {
   "cell_type": "code",
   "execution_count": null,
   "metadata": {},
   "outputs": [],
   "source": [
    "plot_portfolio_value(data, \"Moving Average Convergence Divergence\")"
   ]
  },
  {
   "cell_type": "code",
   "execution_count": null,
   "metadata": {},
   "outputs": [],
   "source": [
    "plot_trade_points(data.iloc[-500:], \"Moving Average Convergence Divergence\")"
   ]
  }
 ],
 "metadata": {
  "kernelspec": {
   "display_name": "venv",
   "language": "python",
   "name": "python3"
  },
  "language_info": {
   "codemirror_mode": {
    "name": "ipython",
    "version": 3
   },
   "file_extension": ".py",
   "mimetype": "text/x-python",
   "name": "python",
   "nbconvert_exporter": "python",
   "pygments_lexer": "ipython3",
   "version": "3.10.4"
  }
 },
 "nbformat": 4,
 "nbformat_minor": 2
}
