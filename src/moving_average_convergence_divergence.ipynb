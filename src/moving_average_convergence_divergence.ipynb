{
 "cells": [
  {
   "cell_type": "code",
   "execution_count": null,
   "metadata": {},
   "outputs": [],
   "source": [
    "import pandas as pd\n",
    "import portfolio\n",
    "from stats import *\n",
    "from visualisation import plot_portfolio_value, plot_trade_points"
   ]
  },
  {
   "cell_type": "code",
   "execution_count": null,
   "metadata": {},
   "outputs": [],
   "source": [
    "# Read in the data\n",
    "ticker = \"AAPL\"\n",
    "data_path = f\"../data/{ticker}_processed_hourly_data.csv\"\n",
    "data = pd.read_csv(data_path, index_col='Datetime', parse_dates=True)"
   ]
  },
  {
   "cell_type": "code",
   "execution_count": null,
   "metadata": {},
   "outputs": [],
   "source": [
    "def calculate_macd(df, fast_period=12, slow_period= 24, signal_period=9):\n",
    "    df['Fast EMA'] = df['Close'].ewm(span=fast_period, adjust=False).mean()\n",
    "    df['Slow EMA'] = df['Close'].ewm(span=slow_period, adjust=False).mean()\n",
    "    df['MACD'] = df['Fast EMA'] - df['Slow EMA']\n",
    "    df['Signal Line'] = df['MACD'].ewm(span=signal_period, adjust=False).mean()\n",
    "    return df"
   ]
  },
  {
   "cell_type": "code",
   "execution_count": null,
   "metadata": {},
   "outputs": [],
   "source": [
    "data = calculate_macd(data)"
   ]
  },
  {
   "cell_type": "code",
   "execution_count": null,
   "metadata": {},
   "outputs": [],
   "source": []
  }
 ],
 "metadata": {
  "kernelspec": {
   "display_name": "venv",
   "language": "python",
   "name": "python3"
  },
  "language_info": {
   "name": "python",
   "version": "3.10.4"
  }
 },
 "nbformat": 4,
 "nbformat_minor": 2
}
